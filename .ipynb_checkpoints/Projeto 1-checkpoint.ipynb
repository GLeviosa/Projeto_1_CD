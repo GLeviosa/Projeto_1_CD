{
 "cells": [
  {
   "cell_type": "markdown",
   "metadata": {},
   "source": [
    "# Projeto 1 "
   ]
  },
  {
   "cell_type": "markdown",
   "metadata": {},
   "source": [
    "Este codigo junta e limpa os dados sobre o IDH, Produção de energia hidrelétrica per capita e porcentagem de área coberta por \n",
    "florestas e pretende responder se exixte alguma relação entre esses dados e o IDH."
   ]
  },
  {
   "cell_type": "markdown",
   "metadata": {},
   "source": [
    "# Importando dados"
   ]
  },
  {
   "cell_type": "markdown",
   "metadata": {},
   "source": [
    "dados fornecidos pelo gapminder"
   ]
  },
  {
   "cell_type": "code",
   "execution_count": 183,
   "metadata": {},
   "outputs": [],
   "source": [
    "import pandas as pd\n",
    "\n",
    "idh = pd.read_excel('hdi_human_development_index.xlsx')\n",
    "hydro = pd.read_excel('hydro_power_generation_per_person.xlsx')\n",
    "cover = pd.read_excel('forest_coverage_percent.xlsx')\n"
   ]
  },
  {
   "cell_type": "markdown",
   "metadata": {},
   "source": [
    "# Restringindo os dados à 2010"
   ]
  },
  {
   "cell_type": "code",
   "execution_count": 184,
   "metadata": {},
   "outputs": [],
   "source": [
    "cover_2010 = cover.loc[:, [\"Países\", 2010]]\n",
    "cover_idx = cover_2010.set_index(\"Países\")"
   ]
  },
  {
   "cell_type": "code",
   "execution_count": 185,
   "metadata": {},
   "outputs": [],
   "source": [
    "hydro_2010 = hydro.loc[:, [\"Países\", 2010]]\n",
    "hydro_idx = hydro_2010.set_index(\"Países\")"
   ]
  },
  {
   "cell_type": "code",
   "execution_count": 186,
   "metadata": {},
   "outputs": [],
   "source": [
    "idh_2010 = idh.loc[:, [\"Países\", 2010]]\n",
    "idh_idx = idh_2010.set_index(\"Países\")"
   ]
  },
  {
   "cell_type": "markdown",
   "metadata": {},
   "source": [
    "# Junção de dados"
   ]
  },
  {
   "cell_type": "markdown",
   "metadata": {},
   "source": [
    "Com os dados que serão analizados retritos à 2010, foi feita uma unica planilha para possibilitar uma melhor visualização"
   ]
  },
  {
   "cell_type": "code",
   "execution_count": 191,
   "metadata": {},
   "outputs": [
    {
     "data": {
      "text/html": [
       "<div>\n",
       "<style scoped>\n",
       "    .dataframe tbody tr th:only-of-type {\n",
       "        vertical-align: middle;\n",
       "    }\n",
       "\n",
       "    .dataframe tbody tr th {\n",
       "        vertical-align: top;\n",
       "    }\n",
       "\n",
       "    .dataframe thead th {\n",
       "        text-align: right;\n",
       "    }\n",
       "</style>\n",
       "<table border=\"1\" class=\"dataframe\">\n",
       "  <thead>\n",
       "    <tr style=\"text-align: right;\">\n",
       "      <th></th>\n",
       "      <th>2010 IDH</th>\n",
       "      <th>2010 Produção de energia hidrelétrica</th>\n",
       "      <th>2010 porcentagem de area florestada</th>\n",
       "    </tr>\n",
       "    <tr>\n",
       "      <th>Países</th>\n",
       "      <th></th>\n",
       "      <th></th>\n",
       "      <th></th>\n",
       "    </tr>\n",
       "  </thead>\n",
       "  <tbody>\n",
       "    <tr>\n",
       "      <th>Albania</th>\n",
       "      <td>0.738</td>\n",
       "      <td>0.20300</td>\n",
       "      <td>28.30</td>\n",
       "    </tr>\n",
       "    <tr>\n",
       "      <th>Algeria</th>\n",
       "      <td>0.724</td>\n",
       "      <td>0.00042</td>\n",
       "      <td>0.81</td>\n",
       "    </tr>\n",
       "    <tr>\n",
       "      <th>Angola</th>\n",
       "      <td>0.495</td>\n",
       "      <td>0.01590</td>\n",
       "      <td>46.90</td>\n",
       "    </tr>\n",
       "    <tr>\n",
       "      <th>Argentina</th>\n",
       "      <td>0.816</td>\n",
       "      <td>0.07150</td>\n",
       "      <td>10.40</td>\n",
       "    </tr>\n",
       "    <tr>\n",
       "      <th>Armenia</th>\n",
       "      <td>0.729</td>\n",
       "      <td>0.07110</td>\n",
       "      <td>11.60</td>\n",
       "    </tr>\n",
       "    <tr>\n",
       "      <th>Australia</th>\n",
       "      <td>0.927</td>\n",
       "      <td>0.04810</td>\n",
       "      <td>16.00</td>\n",
       "    </tr>\n",
       "    <tr>\n",
       "      <th>Austria</th>\n",
       "      <td>0.880</td>\n",
       "      <td>0.39300</td>\n",
       "      <td>46.80</td>\n",
       "    </tr>\n",
       "    <tr>\n",
       "      <th>Azerbaijan</th>\n",
       "      <td>0.741</td>\n",
       "      <td>0.03230</td>\n",
       "      <td>12.20</td>\n",
       "    </tr>\n",
       "    <tr>\n",
       "      <th>Bangladesh</th>\n",
       "      <td>0.545</td>\n",
       "      <td>0.00096</td>\n",
       "      <td>11.10</td>\n",
       "    </tr>\n",
       "    <tr>\n",
       "      <th>Belarus</th>\n",
       "      <td>0.787</td>\n",
       "      <td>0.00040</td>\n",
       "      <td>42.10</td>\n",
       "    </tr>\n",
       "    <tr>\n",
       "      <th>Belgium</th>\n",
       "      <td>0.884</td>\n",
       "      <td>0.00250</td>\n",
       "      <td>22.50</td>\n",
       "    </tr>\n",
       "    <tr>\n",
       "      <th>Bolivia</th>\n",
       "      <td>0.649</td>\n",
       "      <td>0.01890</td>\n",
       "      <td>51.90</td>\n",
       "    </tr>\n",
       "    <tr>\n",
       "      <th>Bosnia and Herzegovina</th>\n",
       "      <td>0.711</td>\n",
       "      <td>0.18300</td>\n",
       "      <td>42.70</td>\n",
       "    </tr>\n",
       "    <tr>\n",
       "      <th>Brazil</th>\n",
       "      <td>0.724</td>\n",
       "      <td>0.17800</td>\n",
       "      <td>59.60</td>\n",
       "    </tr>\n",
       "  </tbody>\n",
       "</table>\n",
       "</div>"
      ],
      "text/plain": [
       "                        2010 IDH  2010 Produção de energia hidrelétrica  \\\n",
       "Países                                                                    \n",
       "Albania                    0.738                                0.20300   \n",
       "Algeria                    0.724                                0.00042   \n",
       "Angola                     0.495                                0.01590   \n",
       "Argentina                  0.816                                0.07150   \n",
       "Armenia                    0.729                                0.07110   \n",
       "Australia                  0.927                                0.04810   \n",
       "Austria                    0.880                                0.39300   \n",
       "Azerbaijan                 0.741                                0.03230   \n",
       "Bangladesh                 0.545                                0.00096   \n",
       "Belarus                    0.787                                0.00040   \n",
       "Belgium                    0.884                                0.00250   \n",
       "Bolivia                    0.649                                0.01890   \n",
       "Bosnia and Herzegovina     0.711                                0.18300   \n",
       "Brazil                     0.724                                0.17800   \n",
       "\n",
       "                        2010 porcentagem de area florestada  \n",
       "Países                                                       \n",
       "Albania                                               28.30  \n",
       "Algeria                                                0.81  \n",
       "Angola                                                46.90  \n",
       "Argentina                                             10.40  \n",
       "Armenia                                               11.60  \n",
       "Australia                                             16.00  \n",
       "Austria                                               46.80  \n",
       "Azerbaijan                                            12.20  \n",
       "Bangladesh                                            11.10  \n",
       "Belarus                                               42.10  \n",
       "Belgium                                               22.50  \n",
       "Bolivia                                               51.90  \n",
       "Bosnia and Herzegovina                                42.70  \n",
       "Brazil                                                59.60  "
      ]
     },
     "execution_count": 191,
     "metadata": {},
     "output_type": "execute_result"
    }
   ],
   "source": [
    "df = idh_idx.join(hydro_idx, how='inner', lsuffix=' IDH', rsuffix=' Produção de energia hidrelétrica')\n",
    "df['2010 porcentagem de area florestada'] = cover_idx[2010]\n",
    "data = df.dropna()\n",
    "data.head(14)"
   ]
  },
  {
   "cell_type": "markdown",
   "metadata": {},
   "source": [
    "Foram retirados países que não possuíam dados suficientes para a análise\n",
    "\n",
    "Gustavo Schlieper Tessitore"
   ]
  }
 ],
 "metadata": {
  "kernelspec": {
   "display_name": "Python 3",
   "language": "python",
   "name": "python3"
  },
  "language_info": {
   "codemirror_mode": {
    "name": "ipython",
    "version": 3
   },
   "file_extension": ".py",
   "mimetype": "text/x-python",
   "name": "python",
   "nbconvert_exporter": "python",
   "pygments_lexer": "ipython3",
   "version": "3.6.4"
  }
 },
 "nbformat": 4,
 "nbformat_minor": 2
}
