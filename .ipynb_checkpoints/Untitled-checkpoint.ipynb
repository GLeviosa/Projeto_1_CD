{
 "cells": [
  {
   "cell_type": "markdown",
   "metadata": {
    "slideshow": {
     "slide_type": "slide"
    }
   },
   "source": [
    "# Projeto 1 Ciência dos Dados"
   ]
  },
  {
   "cell_type": "markdown",
   "metadata": {},
   "source": [
    "Neste projeto o IDH, a Produção de Energia e a Quantidade de Água Renovável "
   ]
  },
  {
   "cell_type": "markdown",
   "metadata": {},
   "source": [
    "# Import de Dados"
   ]
  },
  {
   "cell_type": "code",
   "execution_count": 7,
   "metadata": {},
   "outputs": [],
   "source": [
    "import pandas as pd\n",
    "\n",
    "idh = pd.read_excel('hdi_human_development_index.xlsx')\n",
    "elec = pd.read_excel('electricity_generation_total.xlsx')\n",
    "water = pd.read_excel('renewable_water_cu_meters_per_person.xlsx')\n"
   ]
  },
  {
   "cell_type": "markdown",
   "metadata": {},
   "source": [
    "# Coletando apenas os dados de 2007"
   ]
  },
  {
   "cell_type": "code",
   "execution_count": 8,
   "metadata": {},
   "outputs": [
    {
     "data": {
      "text/html": [
       "<div>\n",
       "<style scoped>\n",
       "    .dataframe tbody tr th:only-of-type {\n",
       "        vertical-align: middle;\n",
       "    }\n",
       "\n",
       "    .dataframe tbody tr th {\n",
       "        vertical-align: top;\n",
       "    }\n",
       "\n",
       "    .dataframe thead th {\n",
       "        text-align: right;\n",
       "    }\n",
       "</style>\n",
       "<table border=\"1\" class=\"dataframe\">\n",
       "  <thead>\n",
       "    <tr style=\"text-align: right;\">\n",
       "      <th></th>\n",
       "      <th>2007</th>\n",
       "    </tr>\n",
       "    <tr>\n",
       "      <th>Países</th>\n",
       "      <th></th>\n",
       "    </tr>\n",
       "  </thead>\n",
       "  <tbody>\n",
       "    <tr>\n",
       "      <th>Afghanistan</th>\n",
       "      <td>2520.0</td>\n",
       "    </tr>\n",
       "    <tr>\n",
       "      <th>Albania</th>\n",
       "      <td>10000.0</td>\n",
       "    </tr>\n",
       "    <tr>\n",
       "      <th>Algeria</th>\n",
       "      <td>341.0</td>\n",
       "    </tr>\n",
       "    <tr>\n",
       "      <th>Andorra</th>\n",
       "      <td>3720.0</td>\n",
       "    </tr>\n",
       "    <tr>\n",
       "      <th>Angola</th>\n",
       "      <td>7740.0</td>\n",
       "    </tr>\n",
       "  </tbody>\n",
       "</table>\n",
       "</div>"
      ],
      "text/plain": [
       "                2007\n",
       "Países              \n",
       "Afghanistan   2520.0\n",
       "Albania      10000.0\n",
       "Algeria        341.0\n",
       "Andorra       3720.0\n",
       "Angola        7740.0"
      ]
     },
     "execution_count": 8,
     "metadata": {},
     "output_type": "execute_result"
    }
   ],
   "source": [
    "idh_2007 = idh.loc[:, ['Países', 2007]]\n",
    "idh_idx = idh_2007.set_index('Países')\n",
    "\n",
    "elec_2007 = elec.loc[:, ['Países', 2007]]\n",
    "elec_idx = elec_2007.set_index('Países')\n",
    "\n",
    "water_2007 = water.loc[:, ['Países', 2007]]\n",
    "water_idx = water_2007.set_index('Países')\n",
    "\n",
    "water_idx.head()"
   ]
  },
  {
   "cell_type": "markdown",
   "metadata": {},
   "source": [
    "# União dos Dados"
   ]
  },
  {
   "cell_type": "code",
   "execution_count": 15,
   "metadata": {
    "scrolled": true
   },
   "outputs": [
    {
     "data": {
      "text/html": [
       "<div>\n",
       "<style scoped>\n",
       "    .dataframe tbody tr th:only-of-type {\n",
       "        vertical-align: middle;\n",
       "    }\n",
       "\n",
       "    .dataframe tbody tr th {\n",
       "        vertical-align: top;\n",
       "    }\n",
       "\n",
       "    .dataframe thead th {\n",
       "        text-align: right;\n",
       "    }\n",
       "</style>\n",
       "<table border=\"1\" class=\"dataframe\">\n",
       "  <thead>\n",
       "    <tr style=\"text-align: right;\">\n",
       "      <th></th>\n",
       "      <th>2007 IDH</th>\n",
       "      <th>2007 Água Renovável em m³</th>\n",
       "      <th>2007 Produção de Energia</th>\n",
       "    </tr>\n",
       "    <tr>\n",
       "      <th>Países</th>\n",
       "      <th></th>\n",
       "      <th></th>\n",
       "      <th></th>\n",
       "    </tr>\n",
       "  </thead>\n",
       "  <tbody>\n",
       "    <tr>\n",
       "      <th>Algeria</th>\n",
       "      <td>0.697</td>\n",
       "      <td>341.0</td>\n",
       "      <td>3.730000e+10</td>\n",
       "    </tr>\n",
       "    <tr>\n",
       "      <th>Argentina</th>\n",
       "      <td>0.792</td>\n",
       "      <td>21900.0</td>\n",
       "      <td>1.150000e+11</td>\n",
       "    </tr>\n",
       "    <tr>\n",
       "      <th>Australia</th>\n",
       "      <td>0.921</td>\n",
       "      <td>23500.0</td>\n",
       "      <td>2.430000e+11</td>\n",
       "    </tr>\n",
       "    <tr>\n",
       "      <th>Austria</th>\n",
       "      <td>0.864</td>\n",
       "      <td>9360.0</td>\n",
       "      <td>6.490000e+10</td>\n",
       "    </tr>\n",
       "    <tr>\n",
       "      <th>Azerbaijan</th>\n",
       "      <td>0.719</td>\n",
       "      <td>3960.0</td>\n",
       "      <td>2.180000e+10</td>\n",
       "    </tr>\n",
       "    <tr>\n",
       "      <th>Bangladesh</th>\n",
       "      <td>0.520</td>\n",
       "      <td>8370.0</td>\n",
       "      <td>3.100000e+10</td>\n",
       "    </tr>\n",
       "    <tr>\n",
       "      <th>Belarus</th>\n",
       "      <td>0.755</td>\n",
       "      <td>6060.0</td>\n",
       "      <td>3.180000e+10</td>\n",
       "    </tr>\n",
       "    <tr>\n",
       "      <th>Belgium</th>\n",
       "      <td>0.874</td>\n",
       "      <td>1710.0</td>\n",
       "      <td>8.880000e+10</td>\n",
       "    </tr>\n",
       "    <tr>\n",
       "      <th>Brazil</th>\n",
       "      <td>0.704</td>\n",
       "      <td>44900.0</td>\n",
       "      <td>4.450000e+11</td>\n",
       "    </tr>\n",
       "    <tr>\n",
       "      <th>Bulgaria</th>\n",
       "      <td>0.761</td>\n",
       "      <td>2810.0</td>\n",
       "      <td>4.330000e+10</td>\n",
       "    </tr>\n",
       "    <tr>\n",
       "      <th>Canada</th>\n",
       "      <td>0.897</td>\n",
       "      <td>88000.0</td>\n",
       "      <td>6.260000e+11</td>\n",
       "    </tr>\n",
       "    <tr>\n",
       "      <th>Chile</th>\n",
       "      <td>0.804</td>\n",
       "      <td>56100.0</td>\n",
       "      <td>6.010000e+10</td>\n",
       "    </tr>\n",
       "    <tr>\n",
       "      <th>China</th>\n",
       "      <td>0.672</td>\n",
       "      <td>2100.0</td>\n",
       "      <td>3.280000e+12</td>\n",
       "    </tr>\n",
       "    <tr>\n",
       "      <th>Colombia</th>\n",
       "      <td>0.683</td>\n",
       "      <td>53200.0</td>\n",
       "      <td>6.110000e+10</td>\n",
       "    </tr>\n",
       "    <tr>\n",
       "      <th>Czech Republic</th>\n",
       "      <td>0.856</td>\n",
       "      <td>1270.0</td>\n",
       "      <td>8.800000e+10</td>\n",
       "    </tr>\n",
       "    <tr>\n",
       "      <th>Denmark</th>\n",
       "      <td>0.906</td>\n",
       "      <td>1100.0</td>\n",
       "      <td>3.930000e+10</td>\n",
       "    </tr>\n",
       "    <tr>\n",
       "      <th>Ecuador</th>\n",
       "      <td>0.698</td>\n",
       "      <td>31100.0</td>\n",
       "      <td>1.730000e+10</td>\n",
       "    </tr>\n",
       "    <tr>\n",
       "      <th>Egypt</th>\n",
       "      <td>0.651</td>\n",
       "      <td>751.0</td>\n",
       "      <td>1.190000e+11</td>\n",
       "    </tr>\n",
       "    <tr>\n",
       "      <th>Finland</th>\n",
       "      <td>0.876</td>\n",
       "      <td>20800.0</td>\n",
       "      <td>8.120000e+10</td>\n",
       "    </tr>\n",
       "    <tr>\n",
       "      <th>France</th>\n",
       "      <td>0.877</td>\n",
       "      <td>3400.0</td>\n",
       "      <td>5.700000e+11</td>\n",
       "    </tr>\n",
       "  </tbody>\n",
       "</table>\n",
       "</div>"
      ],
      "text/plain": [
       "                2007 IDH  2007 Água Renovável em m³  2007 Produção de Energia\n",
       "Países                                                                       \n",
       "Algeria            0.697                      341.0              3.730000e+10\n",
       "Argentina          0.792                    21900.0              1.150000e+11\n",
       "Australia          0.921                    23500.0              2.430000e+11\n",
       "Austria            0.864                     9360.0              6.490000e+10\n",
       "Azerbaijan         0.719                     3960.0              2.180000e+10\n",
       "Bangladesh         0.520                     8370.0              3.100000e+10\n",
       "Belarus            0.755                     6060.0              3.180000e+10\n",
       "Belgium            0.874                     1710.0              8.880000e+10\n",
       "Brazil             0.704                    44900.0              4.450000e+11\n",
       "Bulgaria           0.761                     2810.0              4.330000e+10\n",
       "Canada             0.897                    88000.0              6.260000e+11\n",
       "Chile              0.804                    56100.0              6.010000e+10\n",
       "China              0.672                     2100.0              3.280000e+12\n",
       "Colombia           0.683                    53200.0              6.110000e+10\n",
       "Czech Republic     0.856                     1270.0              8.800000e+10\n",
       "Denmark            0.906                     1100.0              3.930000e+10\n",
       "Ecuador            0.698                    31100.0              1.730000e+10\n",
       "Egypt              0.651                      751.0              1.190000e+11\n",
       "Finland            0.876                    20800.0              8.120000e+10\n",
       "France             0.877                     3400.0              5.700000e+11"
      ]
     },
     "execution_count": 15,
     "metadata": {},
     "output_type": "execute_result"
    }
   ],
   "source": [
    "fin = idh_idx.join(water_idx, how='inner', lsuffix=' IDH', rsuffix=' Água Renovável em m³')\n",
    "fin['2007 Produção de Energia'] = elec_idx[2007]\n",
    "final = fin.dropna()\n",
    "final.head(20)"
   ]
  },
  {
   "cell_type": "markdown",
   "metadata": {},
   "source": [
    "Giovanni Cardoso Pertence dos Santos"
   ]
  },
  {
   "cell_type": "code",
   "execution_count": null,
   "metadata": {},
   "outputs": [],
   "source": []
  }
 ],
 "metadata": {
  "kernelspec": {
   "display_name": "Python 3",
   "language": "python",
   "name": "python3"
  },
  "language_info": {
   "codemirror_mode": {
    "name": "ipython",
    "version": 3
   },
   "file_extension": ".py",
   "mimetype": "text/x-python",
   "name": "python",
   "nbconvert_exporter": "python",
   "pygments_lexer": "ipython3",
   "version": "3.6.4"
  }
 },
 "nbformat": 4,
 "nbformat_minor": 2
}
